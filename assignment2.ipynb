{
 "cells": [
  {
   "cell_type": "markdown",
   "metadata": {},
   "source": [
    "<h1> ASSIGNMENT 2"
   ]
  },
  {
   "cell_type": "markdown",
   "metadata": {},
   "source": [
    "<h4>1. Reverse the Whole String"
   ]
  },
  {
   "cell_type": "code",
   "execution_count": 1,
   "metadata": {},
   "outputs": [
    {
     "name": "stdout",
     "output_type": "stream",
     "text": [
      ".tnemngissa dnoces si ti\n"
     ]
    }
   ],
   "source": [
    "def str_reverser(str):\n",
    "    return str[::-1]\n",
    "\n",
    "print(str_reverser(\"it is second assignment.\"))"
   ]
  },
  {
   "cell_type": "markdown",
   "metadata": {},
   "source": [
    "<h4>2. Write down a function which will accept list of words as input and filter the words whose length is less than 3, use list comprehension.\n",
    "\n",
    "Example: For input [\"hi\", \"I\",\"am\",\"new\",\"python\", \"programmer\"] output should be [\"hi\", \"I\",\"am\"]"
   ]
  },
  {
   "cell_type": "code",
   "execution_count": 13,
   "metadata": {},
   "outputs": [
    {
     "name": "stdout",
     "output_type": "stream",
     "text": [
      "['hi', '2']\n"
     ]
    }
   ],
   "source": [
    "def size_upto_3(li):\n",
    "    return [newli for newli in li if len(newli)<3]\n",
    "\n",
    "li=(\"hi\",\"its\",\"assignment\",\"2\")\n",
    "print(size_upto_3(li))"
   ]
  },
  {
   "cell_type": "markdown",
   "metadata": {},
   "source": [
    "<h4>3.Write a program to create a list of cubes of first 10 positive integers using list comprehension i.e, [1, 8, 27, 64, 125, 216, 343, 512, 729]"
   ]
  },
  {
   "cell_type": "code",
   "execution_count": 15,
   "metadata": {},
   "outputs": [
    {
     "name": "stdout",
     "output_type": "stream",
     "text": [
      "[1, 8, 27, 64, 125, 216, 343, 512, 729]\n"
     ]
    }
   ],
   "source": [
    "cubes=list([i**3 for i in range(1,10)])\n",
    "print(cubes)"
   ]
  }
 ],
 "metadata": {
  "kernelspec": {
   "display_name": "Python 3",
   "language": "python",
   "name": "python3"
  },
  "language_info": {
   "codemirror_mode": {
    "name": "ipython",
    "version": 3
   },
   "file_extension": ".py",
   "mimetype": "text/x-python",
   "name": "python",
   "nbconvert_exporter": "python",
   "pygments_lexer": "ipython3",
   "version": "3.10.0rc2"
  }
 },
 "nbformat": 4,
 "nbformat_minor": 2
}
