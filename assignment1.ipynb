{
 "cells": [
  {
   "cell_type": "markdown",
   "metadata": {},
   "source": [
    "<h1>1.Install boto3 and fastAPI package using pip"
   ]
  },
  {
   "cell_type": "markdown",
   "metadata": {},
   "source": [
    "<h1>2.Verify if the id of dictionory modify if we add new key in it.? Try to find justification behind the result"
   ]
  },
  {
   "cell_type": "code",
   "execution_count": 5,
   "metadata": {},
   "outputs": [
    {
     "name": "stdout",
     "output_type": "stream",
     "text": [
      "id of the original dictionory\n",
      "1730269562944\n",
      "id after modification\n",
      "1730269562944\n"
     ]
    }
   ],
   "source": [
    "#creating a dictionory \n",
    "student_details={\"Name\":\"Gaurav\",\"Roll no\":391072}\n",
    "print(\"id of the original dictionory\")\n",
    "print(id(student_details))\n",
    "student_details[\"Branch\"]=\"CSE-AI&ML\"\n",
    "print(\"id after modification\")\n",
    "print(id(student_details))"
   ]
  },
  {
   "cell_type": "markdown",
   "metadata": {},
   "source": [
    "<h3>as we can see there is no change in the id of the dictionary Student_details before and after modification beacuse dictionory is mutable."
   ]
  },
  {
   "cell_type": "markdown",
   "metadata": {},
   "source": [
    "<h1>try division operator with 100/0 and note down the output"
   ]
  },
  {
   "cell_type": "code",
   "execution_count": 6,
   "metadata": {},
   "outputs": [
    {
     "ename": "ZeroDivisionError",
     "evalue": "division by zero",
     "output_type": "error",
     "traceback": [
      "\u001b[1;31m---------------------------------------------------------------------------\u001b[0m",
      "\u001b[1;31mZeroDivisionError\u001b[0m                         Traceback (most recent call last)",
      "Cell \u001b[1;32mIn[6], line 1\u001b[0m\n\u001b[1;32m----> 1\u001b[0m \u001b[38;5;241;43m100\u001b[39;49m\u001b[38;5;241;43m/\u001b[39;49m\u001b[38;5;241;43m0\u001b[39;49m\n",
      "\u001b[1;31mZeroDivisionError\u001b[0m: division by zero"
     ]
    }
   ],
   "source": [
    "print(100/0)"
   ]
  },
  {
   "cell_type": "markdown",
   "metadata": {},
   "source": [
    "<h3>when we divide 100 or any number by 0 it throws \"division by zero\" exception"
   ]
  },
  {
   "cell_type": "markdown",
   "metadata": {},
   "source": [
    "<h1>4. create a list of 5 fruits and find out if \"oranges\" present in the list, if present then print down th eindex of \"oranges\" use loop and condition"
   ]
  },
  {
   "cell_type": "code",
   "execution_count": 23,
   "metadata": {},
   "outputs": [
    {
     "name": "stdout",
     "output_type": "stream",
     "text": [
      "oranges are present in the list\n",
      "id of oranges: 2\n"
     ]
    }
   ],
   "source": [
    "#creating a list of Fruits\n",
    "fruits=list((\"apples\",\"bananas\",\"oranges\",\"grapes\",\"strawberries\"))\n",
    "\n",
    "#iterating the list using for loop\n",
    "for i in fruits:\n",
    "    #checking for the presence of \"oranges\" uing if condition\n",
    "    if i==\"oranges\":\n",
    "        print(\"oranges are present in the list\")\n",
    "        #finding the index of \"oranges\" in the \"fruits\"\n",
    "        print(\"id of oranges:\",fruits.index(i))\n",
    "   "
   ]
  },
  {
   "cell_type": "markdown",
   "metadata": {},
   "source": [
    "<h1>5.Write python code to print bellow pyramid. Pyramid height must be configurable"
   ]
  },
  {
   "cell_type": "code",
   "execution_count": 30,
   "metadata": {},
   "outputs": [
    {
     "name": "stdout",
     "output_type": "stream",
     "text": [
      "                * \n",
      "              * * \n",
      "            * * * \n",
      "          * * * * \n",
      "        * * * * * \n",
      "      * * * * * * \n",
      "    * * * * * * * \n",
      "  * * * * * * * * \n",
      "* * * * * * * * * \n"
     ]
    }
   ],
   "source": [
    "\n",
    "n=int(input(\"enter no of rows:\"))\n",
    "\n",
    "for i in range(1,n+1):\n",
    "    for j in range(n-i):\n",
    "        print(\" \",end=\" \")\n",
    "    for o in range(i):\n",
    "        print(\"*\",end=\" \")\n",
    "    print()\n"
   ]
  }
 ],
 "metadata": {
  "kernelspec": {
   "display_name": "Python 3",
   "language": "python",
   "name": "python3"
  },
  "language_info": {
   "codemirror_mode": {
    "name": "ipython",
    "version": 3
   },
   "file_extension": ".py",
   "mimetype": "text/x-python",
   "name": "python",
   "nbconvert_exporter": "python",
   "pygments_lexer": "ipython3",
   "version": "3.10.0"
  }
 },
 "nbformat": 4,
 "nbformat_minor": 2
}
